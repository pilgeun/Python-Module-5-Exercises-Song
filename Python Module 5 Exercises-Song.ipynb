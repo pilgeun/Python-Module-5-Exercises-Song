{
 "cells": [
  {
   "cell_type": "markdown",
   "metadata": {},
   "source": [
    "1. Create a dictionary named pairs with key value pairs of hello and fire, 3 and seven, strong and 45. Print out the dictionary."
   ]
  },
  {
   "cell_type": "code",
   "execution_count": 1,
   "metadata": {},
   "outputs": [
    {
     "name": "stdout",
     "output_type": "stream",
     "text": [
      "{'hello': 'fire', 3: 'seven', 'strong': 45}\n"
     ]
    }
   ],
   "source": [
    "pairs = {'hello':'fire', 3:\"seven\", 'strong':45 }\n",
    "print(pairs)"
   ]
  },
  {
   "cell_type": "markdown",
   "metadata": {},
   "source": [
    "2. Add welcome and 56 pair into pairs dictionary. Print out the dictionary. "
   ]
  },
  {
   "cell_type": "code",
   "execution_count": 2,
   "metadata": {},
   "outputs": [
    {
     "name": "stdout",
     "output_type": "stream",
     "text": [
      "{'hello': 'fire', 3: 'seven', 'strong': 45, 'welcome': 56}\n"
     ]
    }
   ],
   "source": [
    "pairs[\"welcome\"] = 56\n",
    "print(pairs)"
   ]
  },
  {
   "cell_type": "markdown",
   "metadata": {},
   "source": [
    "3. Delete one item from the Dictionary. Print deleted item and the dictionary."
   ]
  },
  {
   "cell_type": "code",
   "execution_count": 3,
   "metadata": {},
   "outputs": [
    {
     "name": "stdout",
     "output_type": "stream",
     "text": [
      "fire\n",
      "{3: 'seven', 'strong': 45, 'welcome': 56}\n"
     ]
    }
   ],
   "source": [
    "deleted_item = pairs['hello']\n",
    "del pairs['hello']\n",
    "\n",
    "print(deleted_item)\n",
    "print(pairs)"
   ]
  },
  {
   "cell_type": "markdown",
   "metadata": {},
   "source": [
    "4. Print the value of an item where key is 3 from the dicitonary"
   ]
  },
  {
   "cell_type": "code",
   "execution_count": 4,
   "metadata": {},
   "outputs": [
    {
     "name": "stdout",
     "output_type": "stream",
     "text": [
      "seven\n"
     ]
    }
   ],
   "source": [
    "print(pairs[3])"
   ]
  },
  {
   "cell_type": "markdown",
   "metadata": {},
   "source": [
    "5. Try to find out if the key called hello exist. Print out the key is found if it is there otherwise print out the key is not there."
   ]
  },
  {
   "cell_type": "code",
   "execution_count": 63,
   "metadata": {},
   "outputs": [
    {
     "name": "stdout",
     "output_type": "stream",
     "text": [
      "The key is not there\n"
     ]
    }
   ],
   "source": [
    "# already deleted 'hello' from dictionary\n",
    "\n",
    "if 'hello' in pairs:\n",
    "    print(\"The key is found\")\n",
    "    \n",
    "else :\n",
    "    print(\"The key is not there\")\n",
    "    "
   ]
  },
  {
   "cell_type": "markdown",
   "metadata": {},
   "source": [
    "6. Loop through the dictionary and print out each value. "
   ]
  },
  {
   "cell_type": "code",
   "execution_count": 61,
   "metadata": {},
   "outputs": [
    {
     "name": "stdout",
     "output_type": "stream",
     "text": [
      "seven\n",
      "45\n",
      "56\n"
     ]
    }
   ],
   "source": [
    "for value in pairs:\n",
    "    print(pairs[value])"
   ]
  },
  {
   "cell_type": "markdown",
   "metadata": {},
   "source": [
    "7. Loop through the dictionary and print out each key."
   ]
  },
  {
   "cell_type": "code",
   "execution_count": 62,
   "metadata": {},
   "outputs": [
    {
     "name": "stdout",
     "output_type": "stream",
     "text": [
      "3\n",
      "strong\n",
      "welcome\n"
     ]
    }
   ],
   "source": [
    "for key in pairs:\n",
    "    print(key)"
   ]
  },
  {
   "cell_type": "markdown",
   "metadata": {},
   "source": [
    "8. Loop through the dictionary and print out each key and value pair. "
   ]
  },
  {
   "cell_type": "code",
   "execution_count": 30,
   "metadata": {},
   "outputs": [
    {
     "name": "stdout",
     "output_type": "stream",
     "text": [
      "Key: 3 --- Value: seven\n",
      "Key: strong --- Value: 45\n",
      "Key: welcome --- Value: 56\n"
     ]
    }
   ],
   "source": [
    "for key, value in pairs.items():\n",
    "    print(f\"Key: {key} --- Value: {value}\")\n"
   ]
  },
  {
   "cell_type": "markdown",
   "metadata": {},
   "source": [
    "9. Make a nested dictionary called parent with 2 children's information: name, age, gender. Print out parent."
   ]
  },
  {
   "cell_type": "code",
   "execution_count": 64,
   "metadata": {},
   "outputs": [
    {
     "name": "stdout",
     "output_type": "stream",
     "text": [
      "{'Violet': {'name': 'Violet Parr', 'age': 14, 'gender': 'F'}, 'Dash': {'name': 'Dashiell Parr', 'age': 10, 'gender': 'M'}}\n"
     ]
    }
   ],
   "source": [
    "parent = {}\n",
    "\n",
    "parent[\"Violet\"] = {\"name\":\"Violet Parr\", \"age\":14, \"gender\":\"F\"}\n",
    "parent[\"Dash\"] = {\"name\":\"Dashiell Parr\", \"age\":10, \"gender\":\"M\"}\n",
    "print(parent)"
   ]
  },
  {
   "cell_type": "markdown",
   "metadata": {},
   "source": [
    "10. Add new child to above dictionary. Print out the name of all children."
   ]
  },
  {
   "cell_type": "code",
   "execution_count": 65,
   "metadata": {},
   "outputs": [
    {
     "name": "stdout",
     "output_type": "stream",
     "text": [
      "Violet Parr\n",
      "Dashiell Parr\n",
      "John Jackson Parr\n"
     ]
    }
   ],
   "source": [
    "parent[\"Jack-Jack\"] = {\"name\": \"John Jackson Parr\", \"age\":1, \"gender\":\"M\"}\n",
    "\n",
    "for child in parent:\n",
    "    print(parent[child][\"name\"])"
   ]
  },
  {
   "cell_type": "markdown",
   "metadata": {},
   "source": [
    "11. Create a Test Scores program that gets the name of students and test score from a user. Then, generate a list of students who passed and a list of students who failed where passing test score is 60 or above. "
   ]
  },
  {
   "cell_type": "code",
   "execution_count": 67,
   "metadata": {},
   "outputs": [
    {
     "name": "stdout",
     "output_type": "stream",
     "text": [
      "Name of student (type 0 to quit): Bob\n",
      "Enter score: 50\n",
      "Name of student (type 0 to quit): LiSA\n",
      "Enter score: 55\n",
      "Name of student (type 0 to quit): mary\n",
      "Enter score: 60\n",
      "Name of student (type 0 to quit): aNNe\n",
      "Enter score: 70\n",
      "Name of student (type 0 to quit): broCCoLi\n",
      "Enter score: 75\n",
      "Name of student (type 0 to quit): 0\n",
      "\n",
      "Students who passed: ['aNNe', 'broCCoLi', 'mary']\n",
      "Students who failed: ['Bob', 'LiSA']\n"
     ]
    }
   ],
   "source": [
    "test_scores = {}\n",
    "students_passed = []\n",
    "students_failed = []\n",
    "\n",
    "while True :\n",
    "    student_name = input(\"Name of student (type 0 to quit): \")\n",
    "    if student_name == '0':\n",
    "        break\n",
    "    student_score = float(input(\"Enter score: \"))\n",
    "    test_scores[student_name] = student_score\n",
    "\n",
    "for student, score in test_scores.items():\n",
    "    if score >= 60:\n",
    "        students_passed.append(student)\n",
    "    else :\n",
    "        students_failed.append(student)\n",
    "\n",
    "students_passed.sort()\n",
    "students_failed.sort() \n",
    "\n",
    "print()\n",
    "print(\"Students who passed:\", students_passed)\n",
    "print(\"Students who failed:\", students_failed)"
   ]
  },
  {
   "cell_type": "markdown",
   "metadata": {},
   "source": [
    "##### 12. Create a Word Counter program that gets a string of text from a user and then counts the number of times a word occrs in the string. \n",
    "\n",
    "The output should look something like this:\n",
    "\n",
    "    The Word Counter Program\n",
    "    \n",
    "    Enter a text string: \n",
    "    Humpty Dumpty sat on a wall, Humpty Dumpty had a great fall. All the king’s horses and all the king’s men couldn’t put Humpty together again.\n",
    "\n",
    "    a : 2\n",
    "    again : 1\n",
    "    all : 2\n",
    "    and : 1\n",
    "    couldn’t : 1\n",
    "    dumpty : 2\n",
    "    fall : 1\n",
    "    great : 1\n",
    "    had : 1\n",
    "    horses : 1\n",
    "    humpty : 3\n",
    "    king’s : 2\n",
    "    men : 1\n",
    "    on : 1\n",
    "    put : 1\n",
    "    sat : 1\n",
    "    the : 2\n",
    "    together : 1\n",
    "    wall : 1\n",
    "\n",
    "    There were total 26 words in the text string   "
   ]
  },
  {
   "cell_type": "code",
   "execution_count": 69,
   "metadata": {},
   "outputs": [
    {
     "name": "stdout",
     "output_type": "stream",
     "text": [
      "The Word Counter Program \n",
      "\n",
      "Enter a text string: \n",
      "Humpty Dumpty sat on a wall, Humpty Dumpty had a great fall. All the king’s horses and all the king’s men couldn’t put Humpty together again.\n",
      "\n",
      "a : 2\n",
      "again : 1\n",
      "all : 2\n",
      "and : 1\n",
      "couldn’t : 1\n",
      "dumpty : 2\n",
      "fall : 1\n",
      "great : 1\n",
      "had : 1\n",
      "horses : 1\n",
      "humpty : 3\n",
      "king’s : 2\n",
      "men : 1\n",
      "on : 1\n",
      "put : 1\n",
      "sat : 1\n",
      "the : 2\n",
      "together : 1\n",
      "wall : 1\n",
      "\n",
      "There were total 26 words in the text string.\n"
     ]
    }
   ],
   "source": [
    "print(\"The Word Counter Program \\n\")\n",
    "\n",
    "print(\"Enter a text string: \")\n",
    "text_string = input()\n",
    "print()\n",
    " \n",
    "punctuation = '''!()-[]{};:'\"\\,<>./?@#$%^&*_~''' \n",
    "\n",
    "for char in text_string:    # remove punctuation from string\n",
    "    if char in punctuation:\n",
    "        text_string = text_string.replace(char, \"\")\n",
    "        \n",
    "text_string = text_string.lower()\n",
    "    \n",
    "list_string = text_string.split()\n",
    "list_string.sort()\n",
    "\n",
    "word_count = {}\n",
    "\n",
    "for word in list_string:    # re-purposed from poll_result (Module 5 Class Demo)\n",
    "    if word in word_count:\n",
    "        word_count[word] += 1\n",
    "    \n",
    "    else :\n",
    "        word_count[word] = 1\n",
    "\n",
    "        \n",
    "for word, count in word_count.items():\n",
    "    print(f\"{word} : {count}\")\n",
    "    \n",
    "print(f\"\\nThere were total {len(list_string)} words in the text string.\")"
   ]
  },
  {
   "cell_type": "code",
   "execution_count": null,
   "metadata": {},
   "outputs": [],
   "source": []
  }
 ],
 "metadata": {
  "kernelspec": {
   "display_name": "Python 3",
   "language": "python",
   "name": "python3"
  },
  "language_info": {
   "codemirror_mode": {
    "name": "ipython",
    "version": 3
   },
   "file_extension": ".py",
   "mimetype": "text/x-python",
   "name": "python",
   "nbconvert_exporter": "python",
   "pygments_lexer": "ipython3",
   "version": "3.8.3"
  }
 },
 "nbformat": 4,
 "nbformat_minor": 4
}
